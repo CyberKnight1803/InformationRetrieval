{
 "cells": [
  {
   "cell_type": "code",
   "execution_count": 30,
   "metadata": {},
   "outputs": [],
   "source": [
    "from lib.constants import PATH_DATASET\n",
    "from lib.zone_index import createZoneIndex\n",
    "from lib.model import BooleanModel\n",
    "from utils.utils import getDocs \n",
    "from utils.preprocess import getCleanDocs\n",
    "\n",
    "from utils.preprocess import getCleanQueryToken\n",
    "from utils.utils import getResultFilePaths"
   ]
  },
  {
   "cell_type": "code",
   "execution_count": 8,
   "metadata": {},
   "outputs": [],
   "source": [
    "docs, doc_paths = getDocs(PATH_DATASET)\n",
    "clean_docs = getCleanDocs(docs)"
   ]
  },
  {
   "cell_type": "code",
   "execution_count": 9,
   "metadata": {},
   "outputs": [],
   "source": [
    "zone_index = createZoneIndex(clean_docs)"
   ]
  },
  {
   "cell_type": "code",
   "execution_count": 10,
   "metadata": {},
   "outputs": [],
   "source": [
    "model = BooleanModel(corpus_size=len(clean_docs), inverted_index=zone_index)\n"
   ]
  },
  {
   "cell_type": "code",
   "execution_count": 11,
   "metadata": {},
   "outputs": [],
   "source": [
    "query = \"(Midsummer AND Dream)\"\n",
    "result = model.process_query(query)"
   ]
  },
  {
   "cell_type": "code",
   "execution_count": 13,
   "metadata": {},
   "outputs": [
    {
     "data": {
      "text/plain": [
       "{'title': [1], 'meta': [1], 'characters': [], 'body': [8, 40, 4]}"
      ]
     },
     "execution_count": 13,
     "metadata": {},
     "output_type": "execute_result"
    }
   ],
   "source": [
    "model.process_query(query)"
   ]
  },
  {
   "cell_type": "code",
   "execution_count": 34,
   "metadata": {},
   "outputs": [],
   "source": [
    "query = \"(winchester AND gloucester)\""
   ]
  },
  {
   "cell_type": "code",
   "execution_count": 5,
   "metadata": {},
   "outputs": [],
   "source": [
    "from nltk.corpus import words \n",
    "from nltk.metrics.distance import edit_distance\n",
    "\n",
    "CORRECT_WORDS = words.words()"
   ]
  },
  {
   "cell_type": "code",
   "execution_count": 18,
   "metadata": {},
   "outputs": [
    {
     "data": {
      "text/plain": [
       "'midsummer'"
      ]
     },
     "execution_count": 18,
     "metadata": {},
     "output_type": "execute_result"
    }
   ],
   "source": [
    "token = \"midsummr\"\n",
    "possible_words = [(edit_distance(token, w), w) for w in CORRECT_WORDS if w[0] == token[0]]\n",
    "correct_token = sorted(possible_words, key = lambda val: val[0])[0][1] \n",
    "correct_token"
   ]
  },
  {
   "cell_type": "code",
   "execution_count": null,
   "metadata": {},
   "outputs": [],
   "source": []
  }
 ],
 "metadata": {
  "interpreter": {
   "hash": "efa69d2e0ae01448e4c9e8b2b5d47bff135ea6b917f938db113d1deb1732af01"
  },
  "kernelspec": {
   "display_name": "Python 3.8.11 ('learn_pytorch')",
   "language": "python",
   "name": "python3"
  },
  "language_info": {
   "codemirror_mode": {
    "name": "ipython",
    "version": 3
   },
   "file_extension": ".py",
   "mimetype": "text/x-python",
   "name": "python",
   "nbconvert_exporter": "python",
   "pygments_lexer": "ipython3",
   "version": "3.8.11"
  },
  "orig_nbformat": 4
 },
 "nbformat": 4,
 "nbformat_minor": 2
}
